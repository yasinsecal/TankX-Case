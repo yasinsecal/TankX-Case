{
 "cells": [
  {
   "cell_type": "code",
   "execution_count": 51,
   "metadata": {},
   "outputs": [],
   "source": [
    "# Get the trading pairs from Binance\n",
    "import requests\n",
    "\n",
    "def get_binance_currencies():\n",
    "    # Binance API endpoint for exchange information\n",
    "    endpoint = \"https://api.binance.com/api/v3/exchangeInfo\"\n",
    "\n",
    "    # Make a GET request to the endpoint\n",
    "    response = requests.get(endpoint)\n",
    "\n",
    "    # Check if the request was successful (status code 200)\n",
    "    if response.status_code == 200:\n",
    "        exchange_info = response.json()\n",
    "\n",
    "        base_currency = [symbol_info['baseAsset'] for symbol_info in exchange_info['symbols']]\n",
    "        quote_currency = [symbol_info['quoteAsset'] for symbol_info in exchange_info['symbols']]\n",
    "        trading_pairs = [symbol_info['symbol'] for symbol_info in exchange_info['symbols']]\n",
    "\n",
    "        return trading_pairs,base_currency,quote_currency\n",
    "    else:\n",
    "        print(f\"Failed to retrieve currencies. Status code: {response.status_code}\")\n",
    "        return None\n",
    "    \n"
   ]
  },
  {
   "cell_type": "code",
   "execution_count": 52,
   "metadata": {},
   "outputs": [],
   "source": [
    "trading_pairs,base_curriencies,quote_currencies = get_binance_currencies()"
   ]
  },
  {
   "cell_type": "code",
   "execution_count": 53,
   "metadata": {},
   "outputs": [
    {
     "data": {
      "text/plain": [
       "['ETHBTC',\n",
       " 'LTCBTC',\n",
       " 'BNBBTC',\n",
       " 'NEOBTC',\n",
       " 'QTUMETH',\n",
       " 'EOSETH',\n",
       " 'SNTETH',\n",
       " 'BNTETH',\n",
       " 'BCCBTC',\n",
       " 'GASBTC']"
      ]
     },
     "execution_count": 53,
     "metadata": {},
     "output_type": "execute_result"
    }
   ],
   "source": [
    "trading_pairs[:10]"
   ]
  },
  {
   "cell_type": "code",
   "execution_count": 38,
   "metadata": {},
   "outputs": [],
   "source": [
    "# Create DataFrame\n",
    "import pandas as pd\n",
    "pairs = pd.DataFrame({\n",
    "    \"pair\":trading_pairs,\n",
    "    \"base\":base_curriencies,\n",
    "    \"quote\":quote_currencies\n",
    "})"
   ]
  },
  {
   "cell_type": "code",
   "execution_count": 39,
   "metadata": {},
   "outputs": [],
   "source": [
    "sample = pairs[:500]"
   ]
  },
  {
   "cell_type": "code",
   "execution_count": 40,
   "metadata": {},
   "outputs": [
    {
     "data": {
      "text/html": [
       "<div>\n",
       "<style scoped>\n",
       "    .dataframe tbody tr th:only-of-type {\n",
       "        vertical-align: middle;\n",
       "    }\n",
       "\n",
       "    .dataframe tbody tr th {\n",
       "        vertical-align: top;\n",
       "    }\n",
       "\n",
       "    .dataframe thead th {\n",
       "        text-align: right;\n",
       "    }\n",
       "</style>\n",
       "<table border=\"1\" class=\"dataframe\">\n",
       "  <thead>\n",
       "    <tr style=\"text-align: right;\">\n",
       "      <th></th>\n",
       "      <th>pair</th>\n",
       "      <th>base</th>\n",
       "      <th>quote</th>\n",
       "    </tr>\n",
       "  </thead>\n",
       "  <tbody>\n",
       "    <tr>\n",
       "      <th>0</th>\n",
       "      <td>ETHBTC</td>\n",
       "      <td>ETH</td>\n",
       "      <td>BTC</td>\n",
       "    </tr>\n",
       "    <tr>\n",
       "      <th>1</th>\n",
       "      <td>LTCBTC</td>\n",
       "      <td>LTC</td>\n",
       "      <td>BTC</td>\n",
       "    </tr>\n",
       "    <tr>\n",
       "      <th>2</th>\n",
       "      <td>BNBBTC</td>\n",
       "      <td>BNB</td>\n",
       "      <td>BTC</td>\n",
       "    </tr>\n",
       "    <tr>\n",
       "      <th>3</th>\n",
       "      <td>NEOBTC</td>\n",
       "      <td>NEO</td>\n",
       "      <td>BTC</td>\n",
       "    </tr>\n",
       "    <tr>\n",
       "      <th>4</th>\n",
       "      <td>QTUMETH</td>\n",
       "      <td>QTUM</td>\n",
       "      <td>ETH</td>\n",
       "    </tr>\n",
       "  </tbody>\n",
       "</table>\n",
       "</div>"
      ],
      "text/plain": [
       "      pair  base quote\n",
       "0   ETHBTC   ETH   BTC\n",
       "1   LTCBTC   LTC   BTC\n",
       "2   BNBBTC   BNB   BTC\n",
       "3   NEOBTC   NEO   BTC\n",
       "4  QTUMETH  QTUM   ETH"
      ]
     },
     "execution_count": 40,
     "metadata": {},
     "output_type": "execute_result"
    }
   ],
   "source": [
    "sample.head()"
   ]
  },
  {
   "cell_type": "code",
   "execution_count": 41,
   "metadata": {},
   "outputs": [],
   "source": [
    "def get_triangle():\n",
    "    triangles = []\n",
    "    for currency1 in sample['base'].unique():\n",
    "        for currency2 in sample.loc[sample['base']==currency1,'quote'].unique():\n",
    "            for currency3 in sample.loc[sample['base']==currency2,'quote'].unique():\n",
    "                if sample.loc[(sample['base']==currency1) & (sample['quote']==currency3)].shape[0] > 0:\n",
    "                    triangles.append([currency1+currency2, currency2+currency3, currency1+currency3])\n",
    "    return triangles\n"
   ]
  },
  {
   "cell_type": "code",
   "execution_count": 42,
   "metadata": {},
   "outputs": [],
   "source": [
    "triangles = get_triangle()"
   ]
  },
  {
   "cell_type": "code",
   "execution_count": 54,
   "metadata": {},
   "outputs": [
    {
     "data": {
      "text/plain": [
       "[['ETHBTC', 'BTCUSDT', 'ETHUSDT'],\n",
       " ['ETHBTC', 'BTCTUSD', 'ETHTUSD'],\n",
       " ['ETHBTC', 'BTCPAX', 'ETHPAX'],\n",
       " ['ETHBTC', 'BTCUSDC', 'ETHUSDC'],\n",
       " ['ETHTUSD', 'TUSDBTC', 'ETHBTC'],\n",
       " ['ETHTUSD', 'TUSDUSDT', 'ETHUSDT'],\n",
       " ['ETHPAX', 'PAXBTC', 'ETHBTC'],\n",
       " ['ETHPAX', 'PAXUSDT', 'ETHUSDT'],\n",
       " ['ETHPAX', 'PAXTUSD', 'ETHTUSD'],\n",
       " ['ETHUSDC', 'USDCUSDT', 'ETHUSDT']]"
      ]
     },
     "execution_count": 54,
     "metadata": {},
     "output_type": "execute_result"
    }
   ],
   "source": [
    "triangles[:10]"
   ]
  },
  {
   "cell_type": "code",
   "execution_count": 61,
   "metadata": {},
   "outputs": [],
   "source": [
    "def check_triangular_arbitrage_opportunity(triangles):\n",
    "\n",
    "    global df \n",
    "    highest_arbitrage = 0\n",
    "    best_triangle = None\n",
    "    \n",
    "    for triangle in triangles:\n",
    "        \n",
    "        pair1 = triangle[0]\n",
    "        pair2 = triangle[1]\n",
    "        pair3 = triangle[2]\n",
    "\n",
    "        # Pass null values if the pair is not in the book ticker\n",
    "        if pair1  not in book_ticker_df['Symbol'].values:\n",
    "            continue\n",
    "        if pair2 not in book_ticker_df['Symbol'].values:\n",
    "            continue\n",
    "        if pair3 not in book_ticker_df['Symbol'].values:\n",
    "            continue\n",
    "\n",
    "        ask_AB = book_ticker_df.loc[book_ticker_df['Symbol']==pair1,'Ask Price'].values[0]\n",
    "        ask_BC = book_ticker_df.loc[book_ticker_df['Symbol']==pair2,'Ask Price'].values[0]\n",
    "        ask_AC = book_ticker_df.loc[book_ticker_df['Symbol']==pair3,'Ask Price'].values[0]\n",
    "\n",
    "        rate_1 = ask_AC/ask_AB * ask_BC\n",
    "\n",
    "        bid_AB = book_ticker_df.loc[book_ticker_df['Symbol']==pair1,'Bid Price'].values[0]\n",
    "        bid_BC = book_ticker_df.loc[book_ticker_df['Symbol']==pair2,'Bid Price'].values[0]\n",
    "        bid_AC = book_ticker_df.loc[book_ticker_df['Symbol']==pair3,'Bid Price'].values[0]\n",
    "\n",
    "        rate_2 = bid_AB * bid_BC/bid_AC\n",
    "\n",
    "        actual_rate = max(rate_1,rate_2)\n",
    "\n",
    "        if (rate_1>1 or rate_2>1) and actual_rate <2:\n",
    "            highest_arbitrage = max(actual_rate,highest_arbitrage)\n",
    "            best_triangle = triangle\n",
    "            action = \"Buy\" if rate_1>rate_2 else \"Sell\"\n",
    "\n",
    "            if rate_1>rate_2:\n",
    "                best_pair_1 = pair1\n",
    "                best_pair_2 = pair2\n",
    "                best_pair_3 = pair3\n",
    "            else:\n",
    "                best_pair_1 = pair1\n",
    "                best_pair_2 = pair2\n",
    "                best_pair_3 = pair3\n",
    "\n",
    "    if highest_arbitrage > 1:\n",
    "        '''print(\"Arbitrage Opportunity Detected!\")\n",
    "        print(f\"Highest Arbitrage: {float(highest_arbitrage)}\")\n",
    "        print(f\"Triangle: {best_triangle}\")\n",
    "        print(f\"Action: {action}\")'''\n",
    "\n",
    "        # Add only distinct rows to the dataframe\n",
    "        \n",
    "        new_row = pd.DataFrame([[highest_arbitrage, best_pair_1,\n",
    "                                 best_pair_2,best_pair_3, action]], columns=df.columns)\n",
    "        df = pd.concat([df, new_row], ignore_index=True)\n",
    "        df.drop_duplicates(inplace=True)\n",
    "        "
   ]
  },
  {
   "cell_type": "code",
   "execution_count": 66,
   "metadata": {},
   "outputs": [],
   "source": [
    "import pandas as pd\n",
    "import websocket\n",
    "import json\n",
    "from decimal import Decimal,getcontext\n",
    "\n",
    "getcontext().prec = 20\n",
    "\n",
    "\n",
    "BINANCE_WS_BASE_URL = \"wss://stream.binance.com:9443/ws/\"\n",
    "\n",
    "# Initialize an empty DataFrame\n",
    "columns = [\"Symbol\", \"Bid Price\", \"Ask Price\"]\n",
    "book_ticker_df = pd.DataFrame(columns=columns)\n",
    "columns_2 = [\"Highest Arbitrage\", \"A\",\"B\",\"C\", \"Action\"]\n",
    "df = pd.DataFrame(columns=columns_2)\n",
    "\n",
    "def on_error(ws, error):\n",
    "\n",
    "    print(error)\n",
    "\n",
    "def on_close(ws, close_status_code, close_msg):\n",
    "\n",
    "    print(\"Connection Closed\", close_status_code, close_msg)\n",
    "\n",
    "\n",
    "def on_message(ws, message):\n",
    "\n",
    "    data = json.loads(message)\n",
    "    process_book_ticker(data)\n",
    "    check_triangular_arbitrage_opportunity(triangles)\n",
    "\n",
    "    if len(df) > 10:\n",
    "        ws.close()\n",
    "\n",
    "\n",
    "def process_book_ticker(data):\n",
    "    \n",
    "    symbol = data[\"s\"]\n",
    "    bid_price = Decimal(data[\"b\"])\n",
    "    ask_price = Decimal(data[\"a\"])\n",
    "\n",
    "    # Update or insert the data in the DataFrame\n",
    "    update_dataframe(symbol, bid_price, ask_price)\n",
    "\n",
    "def update_dataframe(symbol, bid_price, ask_price):\n",
    "   \n",
    "    global book_ticker_df\n",
    "\n",
    "    # Check if the symbol is already in the DataFrame\n",
    "    if symbol in book_ticker_df[\"Symbol\"].values:\n",
    "        # Update existing row\n",
    "        book_ticker_df.loc[book_ticker_df[\"Symbol\"] == symbol, [\"Bid Price\", \"Ask Price\"]] = [bid_price, ask_price]\n",
    "    else:\n",
    "        # Insert a new row\n",
    "        new_row = pd.DataFrame([[symbol, bid_price, ask_price]], columns=book_ticker_df.columns)\n",
    "        book_ticker_df = pd.concat([book_ticker_df, new_row], ignore_index=True)\n",
    "\n",
    "def subscribe_to_book_tickers(pairs):\n",
    "    # Construct the WebSocket URL for book tickers\n",
    "    symbols = [f\"{pair.lower()}@bookTicker\" for pair in sample[\"pair\"]]\n",
    "    url = f\"{BINANCE_WS_BASE_URL}{'/'.join(symbols)}\"\n",
    "\n",
    "    # Start the WebSocket connection\n",
    "    ws = websocket.WebSocketApp(url, on_message=on_message, on_error=on_error, on_close=on_close)\n",
    "    ws.run_forever()\n",
    "    ws.close()\n",
    "\n",
    "\n",
    "\n"
   ]
  },
  {
   "cell_type": "code",
   "execution_count": 67,
   "metadata": {},
   "outputs": [
    {
     "name": "stdout",
     "output_type": "stream",
     "text": [
      "Connection Closed None None\n"
     ]
    }
   ],
   "source": [
    "# Subscribe to book tickers for the specified pairs\n",
    "subscribe_to_book_tickers(sample)"
   ]
  },
  {
   "cell_type": "code",
   "execution_count": 68,
   "metadata": {},
   "outputs": [
    {
     "data": {
      "text/html": [
       "<div>\n",
       "<style scoped>\n",
       "    .dataframe tbody tr th:only-of-type {\n",
       "        vertical-align: middle;\n",
       "    }\n",
       "\n",
       "    .dataframe tbody tr th {\n",
       "        vertical-align: top;\n",
       "    }\n",
       "\n",
       "    .dataframe thead th {\n",
       "        text-align: right;\n",
       "    }\n",
       "</style>\n",
       "<table border=\"1\" class=\"dataframe\">\n",
       "  <thead>\n",
       "    <tr style=\"text-align: right;\">\n",
       "      <th></th>\n",
       "      <th>Symbol</th>\n",
       "      <th>Bid Price</th>\n",
       "      <th>Ask Price</th>\n",
       "    </tr>\n",
       "  </thead>\n",
       "  <tbody>\n",
       "    <tr>\n",
       "      <th>0</th>\n",
       "      <td>MATICUSDT</td>\n",
       "      <td>0.75690000</td>\n",
       "      <td>0.75700000</td>\n",
       "    </tr>\n",
       "    <tr>\n",
       "      <th>1</th>\n",
       "      <td>ETHUSDT</td>\n",
       "      <td>2348.72000000</td>\n",
       "      <td>2348.73000000</td>\n",
       "    </tr>\n",
       "    <tr>\n",
       "      <th>2</th>\n",
       "      <td>BTCUSDT</td>\n",
       "      <td>40274.52000000</td>\n",
       "      <td>40274.53000000</td>\n",
       "    </tr>\n",
       "    <tr>\n",
       "      <th>3</th>\n",
       "      <td>LTCBTC</td>\n",
       "      <td>0.00168900</td>\n",
       "      <td>0.00169000</td>\n",
       "    </tr>\n",
       "    <tr>\n",
       "      <th>4</th>\n",
       "      <td>TRXUSDT</td>\n",
       "      <td>0.10954000</td>\n",
       "      <td>0.10955000</td>\n",
       "    </tr>\n",
       "  </tbody>\n",
       "</table>\n",
       "</div>"
      ],
      "text/plain": [
       "      Symbol       Bid Price       Ask Price\n",
       "0  MATICUSDT      0.75690000      0.75700000\n",
       "1    ETHUSDT   2348.72000000   2348.73000000\n",
       "2    BTCUSDT  40274.52000000  40274.53000000\n",
       "3     LTCBTC      0.00168900      0.00169000\n",
       "4    TRXUSDT      0.10954000      0.10955000"
      ]
     },
     "execution_count": 68,
     "metadata": {},
     "output_type": "execute_result"
    }
   ],
   "source": [
    "book_ticker_df.head()"
   ]
  },
  {
   "cell_type": "code",
   "execution_count": 69,
   "metadata": {},
   "outputs": [
    {
     "data": {
      "text/html": [
       "<div>\n",
       "<style scoped>\n",
       "    .dataframe tbody tr th:only-of-type {\n",
       "        vertical-align: middle;\n",
       "    }\n",
       "\n",
       "    .dataframe tbody tr th {\n",
       "        vertical-align: top;\n",
       "    }\n",
       "\n",
       "    .dataframe thead th {\n",
       "        text-align: right;\n",
       "    }\n",
       "</style>\n",
       "<table border=\"1\" class=\"dataframe\">\n",
       "  <thead>\n",
       "    <tr style=\"text-align: right;\">\n",
       "      <th></th>\n",
       "      <th>Highest Arbitrage</th>\n",
       "      <th>A</th>\n",
       "      <th>B</th>\n",
       "      <th>C</th>\n",
       "      <th>Action</th>\n",
       "    </tr>\n",
       "  </thead>\n",
       "  <tbody>\n",
       "    <tr>\n",
       "      <th>0</th>\n",
       "      <td>1.0016304111272505729</td>\n",
       "      <td>BTCUSDC</td>\n",
       "      <td>USDCUSDT</td>\n",
       "      <td>BTCUSDT</td>\n",
       "      <td>Buy</td>\n",
       "    </tr>\n",
       "    <tr>\n",
       "      <th>1</th>\n",
       "      <td>1.0016306600017243774</td>\n",
       "      <td>BTCUSDC</td>\n",
       "      <td>USDCUSDT</td>\n",
       "      <td>BTCUSDT</td>\n",
       "      <td>Buy</td>\n",
       "    </tr>\n",
       "    <tr>\n",
       "      <th>2</th>\n",
       "      <td>1.0016353886402250945</td>\n",
       "      <td>BTCUSDC</td>\n",
       "      <td>USDCUSDT</td>\n",
       "      <td>BTCUSDT</td>\n",
       "      <td>Buy</td>\n",
       "    </tr>\n",
       "    <tr>\n",
       "      <th>3</th>\n",
       "      <td>1.0016906423566245900</td>\n",
       "      <td>BTCUSDC</td>\n",
       "      <td>USDCUSDT</td>\n",
       "      <td>BTCUSDT</td>\n",
       "      <td>Buy</td>\n",
       "    </tr>\n",
       "    <tr>\n",
       "      <th>4</th>\n",
       "      <td>1.0016787043782924163</td>\n",
       "      <td>BTCUSDC</td>\n",
       "      <td>USDCUSDT</td>\n",
       "      <td>BTCUSDT</td>\n",
       "      <td>Buy</td>\n",
       "    </tr>\n",
       "  </tbody>\n",
       "</table>\n",
       "</div>"
      ],
      "text/plain": [
       "       Highest Arbitrage        A         B        C Action\n",
       "0  1.0016304111272505729  BTCUSDC  USDCUSDT  BTCUSDT    Buy\n",
       "1  1.0016306600017243774  BTCUSDC  USDCUSDT  BTCUSDT    Buy\n",
       "2  1.0016353886402250945  BTCUSDC  USDCUSDT  BTCUSDT    Buy\n",
       "3  1.0016906423566245900  BTCUSDC  USDCUSDT  BTCUSDT    Buy\n",
       "4  1.0016787043782924163  BTCUSDC  USDCUSDT  BTCUSDT    Buy"
      ]
     },
     "execution_count": 69,
     "metadata": {},
     "output_type": "execute_result"
    }
   ],
   "source": [
    "df.head()"
   ]
  }
 ],
 "metadata": {
  "kernelspec": {
   "display_name": "base",
   "language": "python",
   "name": "python3"
  },
  "language_info": {
   "codemirror_mode": {
    "name": "ipython",
    "version": 3
   },
   "file_extension": ".py",
   "mimetype": "text/x-python",
   "name": "python",
   "nbconvert_exporter": "python",
   "pygments_lexer": "ipython3",
   "version": "3.9.12"
  },
  "orig_nbformat": 4,
  "vscode": {
   "interpreter": {
    "hash": "40d3a090f54c6569ab1632332b64b2c03c39dcf918b08424e98f38b5ae0af88f"
   }
  }
 },
 "nbformat": 4,
 "nbformat_minor": 2
}
